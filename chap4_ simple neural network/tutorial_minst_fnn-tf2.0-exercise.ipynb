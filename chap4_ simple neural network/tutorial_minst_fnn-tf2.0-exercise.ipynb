{
 "cells": [
  {
   "cell_type": "markdown",
   "metadata": {},
   "source": [
    "## 准备数据"
   ]
  },
  {
   "cell_type": "code",
   "execution_count": 26,
   "metadata": {},
   "outputs": [],
   "source": [
    "import os\n",
    "import numpy as np\n",
    "import tensorflow as tf\n",
    "from tensorflow import keras\n",
    "from tensorflow.keras import layers, optimizers, datasets\n",
    "\n",
    "os.environ['TF_CPP_MIN_LOG_LEVEL'] = '2'  # or any {'0', '1', '2'}\n",
    "\n",
    "def mnist_dataset():\n",
    "    (x, y), (x_test, y_test) = datasets.mnist.load_data()\n",
    "    #normalize 像数值归一化至 0-1\n",
    "    x = x/255.0\n",
    "    x_test = x_test/255.0\n",
    "    \n",
    "    return (x, y), (x_test, y_test)"
   ]
  },
  {
   "cell_type": "code",
   "execution_count": 27,
   "metadata": {},
   "outputs": [
    {
     "name": "stdout",
     "output_type": "stream",
     "text": [
      "[(1, 'a'), (2, 'b'), (3, 'c'), (4, 'd')]\n"
     ]
    }
   ],
   "source": [
    "print(list(zip([1, 2, 3, 4], ['a', 'b', 'c', 'd'])))"
   ]
  },
  {
   "cell_type": "markdown",
   "metadata": {},
   "source": [
    "## 建立模型"
   ]
  },
  {
   "cell_type": "code",
   "execution_count": 28,
   "metadata": {},
   "outputs": [],
   "source": [
    "class myModel:\n",
    "    def __init__(self):\n",
    "        ####################\n",
    "        '''声明模型对应的参数'''  \n",
    "        ####################\n",
    "\n",
    "        #定义三层全连接神经网络。输入层784个神经单元，中间层256和28个神经单元，输出层10个神经单元\n",
    "        self.W1 = tf.Variable(tf.random.normal([784, 256]), trainable=True)\n",
    "        self.b1 = tf.Variable(tf.zeros([256]), trainable=True)\n",
    "        self.W2 = tf.Variable(tf.random.normal([256, 128]), trainable=True)\n",
    "        self.b2 = tf.Variable(tf.zeros([128]), trainable=True)\n",
    "        self.W3 = tf.Variable(tf.random.normal([128, 10]), trainable=True)\n",
    "        self.b3 = tf.Variable(tf.zeros([10]), trainable=True)\n",
    "\n",
    "    def __call__(self, x):\n",
    "        ####################\n",
    "        '''实现模型函数体，返回未归一化的logits'''\n",
    "        ####################\n",
    "\n",
    "        #前向传播\n",
    "        x = tf.reshape(x, [-1, 28*28])\n",
    "        h1 = tf.nn.relu(tf.matmul(x, self.W1) + self.b1)\n",
    "        h2 = tf.nn.relu(tf.matmul(h1, self.W2) + self.b2)\n",
    "        logits = tf.matmul(h2, self.W3) + self.b3\n",
    "        return logits\n",
    "\n",
    "        \n",
    "model = myModel()\n",
    "\n",
    "optimizer = optimizers.Adam()"
   ]
  },
  {
   "cell_type": "markdown",
   "metadata": {},
   "source": [
    "## 计算 loss"
   ]
  },
  {
   "cell_type": "code",
   "execution_count": 29,
   "metadata": {},
   "outputs": [],
   "source": [
    "@tf.function\n",
    "def compute_loss(logits, labels):  #使用交叉熵损失函数计算模型输出与真实标签之间的损失\n",
    "    return tf.reduce_mean(\n",
    "        tf.nn.sparse_softmax_cross_entropy_with_logits(\n",
    "            logits=logits, labels=labels))\n",
    "\n",
    "@tf.function\n",
    "def compute_accuracy(logits, labels):\n",
    "    predictions = tf.argmax(logits, axis=1)\n",
    "    return tf.reduce_mean(tf.cast(tf.equal(predictions, labels), tf.float32))\n",
    "\n",
    "@tf.function\n",
    "def train_one_step(model, optimizer, x, y):  #使用梯度下降法进行模型训练，通过反向传播更新模型参数，以最小化损失函数\n",
    "    with tf.GradientTape() as tape:\n",
    "        logits = model(x)\n",
    "        loss = compute_loss(logits, y)\n",
    "\n",
    "    # compute gradient\n",
    "    trainable_vars = [model.W1, model.W2, model.b1, model.b2]\n",
    "    grads = tape.gradient(loss, trainable_vars)\n",
    "    for g, v in zip(grads, trainable_vars):\n",
    "        v.assign_sub(0.01*g)\n",
    "\n",
    "    accuracy = compute_accuracy(logits, y)\n",
    "\n",
    "    # loss and accuracy is scalar tensor\n",
    "    return loss, accuracy\n",
    "\n",
    "@tf.function\n",
    "def test(model, x, y):\n",
    "    logits = model(x)\n",
    "    loss = compute_loss(logits, y)\n",
    "    accuracy = compute_accuracy(logits, y)\n",
    "    return loss, accuracy"
   ]
  },
  {
   "cell_type": "markdown",
   "metadata": {},
   "source": [
    "## 实际训练"
   ]
  },
  {
   "cell_type": "code",
   "execution_count": 30,
   "metadata": {},
   "outputs": [
    {
     "name": "stdout",
     "output_type": "stream",
     "text": [
      "epoch 0 : loss 1701.5756 ; accuracy 0.091133334\n",
      "epoch 1 : loss 1115.8579 ; accuracy 0.1372\n",
      "epoch 2 : loss 720.1622 ; accuracy 0.21125\n",
      "epoch 3 : loss 497.8126 ; accuracy 0.25991666\n",
      "epoch 4 : loss 342.81784 ; accuracy 0.35481668\n",
      "epoch 5 : loss 294.48416 ; accuracy 0.40223333\n",
      "epoch 6 : loss 263.5202 ; accuracy 0.42975\n",
      "epoch 7 : loss 240.94737 ; accuracy 0.46261665\n",
      "epoch 8 : loss 222.76605 ; accuracy 0.48168334\n",
      "epoch 9 : loss 208.01857 ; accuracy 0.5043667\n",
      "epoch 10 : loss 195.63336 ; accuracy 0.5197333\n",
      "epoch 11 : loss 185.03758 ; accuracy 0.53618336\n",
      "epoch 12 : loss 175.8219 ; accuracy 0.5492167\n",
      "epoch 13 : loss 167.68242 ; accuracy 0.5623\n",
      "epoch 14 : loss 160.46512 ; accuracy 0.5732333\n",
      "epoch 15 : loss 153.97603 ; accuracy 0.58318335\n",
      "epoch 16 : loss 148.10664 ; accuracy 0.59325\n",
      "epoch 17 : loss 142.79103 ; accuracy 0.6023833\n",
      "epoch 18 : loss 137.94492 ; accuracy 0.61083335\n",
      "epoch 19 : loss 133.49722 ; accuracy 0.6188833\n",
      "epoch 20 : loss 129.41156 ; accuracy 0.6267167\n",
      "epoch 21 : loss 125.64906 ; accuracy 0.6336333\n",
      "epoch 22 : loss 122.15842 ; accuracy 0.6401833\n",
      "epoch 23 : loss 118.91674 ; accuracy 0.64661664\n",
      "epoch 24 : loss 115.90065 ; accuracy 0.65248334\n",
      "epoch 25 : loss 113.07455 ; accuracy 0.65775\n",
      "epoch 26 : loss 110.42052 ; accuracy 0.6626833\n",
      "epoch 27 : loss 107.92075 ; accuracy 0.6678\n",
      "epoch 28 : loss 105.57107 ; accuracy 0.67286664\n",
      "epoch 29 : loss 103.35469 ; accuracy 0.6780667\n",
      "epoch 30 : loss 101.27273 ; accuracy 0.6816667\n",
      "epoch 31 : loss 99.2914 ; accuracy 0.68575\n",
      "epoch 32 : loss 97.411865 ; accuracy 0.68955\n",
      "epoch 33 : loss 95.629486 ; accuracy 0.69335\n",
      "epoch 34 : loss 93.9436 ; accuracy 0.69715\n",
      "epoch 35 : loss 92.34216 ; accuracy 0.7004667\n",
      "epoch 36 : loss 90.81756 ; accuracy 0.7039833\n",
      "epoch 37 : loss 89.36158 ; accuracy 0.7075\n",
      "epoch 38 : loss 87.96794 ; accuracy 0.7104333\n",
      "epoch 39 : loss 86.639336 ; accuracy 0.71351665\n",
      "epoch 40 : loss 85.3725 ; accuracy 0.71648335\n",
      "epoch 41 : loss 84.16119 ; accuracy 0.71938336\n",
      "epoch 42 : loss 83.000824 ; accuracy 0.72183335\n",
      "epoch 43 : loss 81.88617 ; accuracy 0.7247\n",
      "epoch 44 : loss 80.8155 ; accuracy 0.727\n",
      "epoch 45 : loss 79.78423 ; accuracy 0.72936666\n",
      "epoch 46 : loss 78.78983 ; accuracy 0.73148334\n",
      "epoch 47 : loss 77.828575 ; accuracy 0.7338333\n",
      "epoch 48 : loss 76.90175 ; accuracy 0.73641664\n",
      "epoch 49 : loss 76.01055 ; accuracy 0.7384667\n",
      "test loss 70.66145 ; accuracy 0.753\n"
     ]
    }
   ],
   "source": [
    "train_data, test_data = mnist_dataset()\n",
    "for epoch in range(50):\n",
    "    loss, accuracy = train_one_step(model, optimizer, \n",
    "                                    tf.constant(train_data[0], dtype=tf.float32), \n",
    "                                    tf.constant(train_data[1], dtype=tf.int64))\n",
    "    print('epoch', epoch, ': loss', loss.numpy(), '; accuracy', accuracy.numpy())\n",
    "loss, accuracy = test(model, \n",
    "                      tf.constant(test_data[0], dtype=tf.float32), \n",
    "                      tf.constant(test_data[1], dtype=tf.int64))\n",
    "\n",
    "print('test loss', loss.numpy(), '; accuracy', accuracy.numpy())"
   ]
  }
 ],
 "metadata": {
  "kernelspec": {
   "display_name": "Python 3",
   "language": "python",
   "name": "python3"
  },
  "language_info": {
   "codemirror_mode": {
    "name": "ipython",
    "version": 3
   },
   "file_extension": ".py",
   "mimetype": "text/x-python",
   "name": "python",
   "nbconvert_exporter": "python",
   "pygments_lexer": "ipython3",
   "version": "3.6.13"
  }
 },
 "nbformat": 4,
 "nbformat_minor": 2
}
